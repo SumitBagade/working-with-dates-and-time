{
 "cells": [
  {
   "cell_type": "code",
   "execution_count": 3,
   "metadata": {},
   "outputs": [],
   "source": [
    "import numpy as np\n",
    "import pandas as pd"
   ]
  },
  {
   "cell_type": "code",
   "execution_count": 6,
   "metadata": {},
   "outputs": [],
   "source": [
    "date = pd.read_csv('orders.csv')\n",
    "time = pd.read_csv('messages.csv')"
   ]
  },
  {
   "cell_type": "code",
   "execution_count": 7,
   "metadata": {},
   "outputs": [
    {
     "data": {
      "text/html": [
       "<div>\n",
       "<style scoped>\n",
       "    .dataframe tbody tr th:only-of-type {\n",
       "        vertical-align: middle;\n",
       "    }\n",
       "\n",
       "    .dataframe tbody tr th {\n",
       "        vertical-align: top;\n",
       "    }\n",
       "\n",
       "    .dataframe thead th {\n",
       "        text-align: right;\n",
       "    }\n",
       "</style>\n",
       "<table border=\"1\" class=\"dataframe\">\n",
       "  <thead>\n",
       "    <tr style=\"text-align: right;\">\n",
       "      <th></th>\n",
       "      <th>date</th>\n",
       "      <th>product_id</th>\n",
       "      <th>city_id</th>\n",
       "      <th>orders</th>\n",
       "    </tr>\n",
       "  </thead>\n",
       "  <tbody>\n",
       "    <tr>\n",
       "      <th>0</th>\n",
       "      <td>2019-12-10</td>\n",
       "      <td>5628</td>\n",
       "      <td>25</td>\n",
       "      <td>3</td>\n",
       "    </tr>\n",
       "    <tr>\n",
       "      <th>1</th>\n",
       "      <td>2018-08-15</td>\n",
       "      <td>3646</td>\n",
       "      <td>14</td>\n",
       "      <td>157</td>\n",
       "    </tr>\n",
       "    <tr>\n",
       "      <th>2</th>\n",
       "      <td>2018-10-23</td>\n",
       "      <td>1859</td>\n",
       "      <td>25</td>\n",
       "      <td>1</td>\n",
       "    </tr>\n",
       "    <tr>\n",
       "      <th>3</th>\n",
       "      <td>2019-08-17</td>\n",
       "      <td>7292</td>\n",
       "      <td>25</td>\n",
       "      <td>1</td>\n",
       "    </tr>\n",
       "    <tr>\n",
       "      <th>4</th>\n",
       "      <td>2019-01-06</td>\n",
       "      <td>4344</td>\n",
       "      <td>25</td>\n",
       "      <td>3</td>\n",
       "    </tr>\n",
       "  </tbody>\n",
       "</table>\n",
       "</div>"
      ],
      "text/plain": [
       "         date  product_id  city_id  orders\n",
       "0  2019-12-10        5628       25       3\n",
       "1  2018-08-15        3646       14     157\n",
       "2  2018-10-23        1859       25       1\n",
       "3  2019-08-17        7292       25       1\n",
       "4  2019-01-06        4344       25       3"
      ]
     },
     "execution_count": 7,
     "metadata": {},
     "output_type": "execute_result"
    }
   ],
   "source": [
    "date.head()"
   ]
  },
  {
   "cell_type": "code",
   "execution_count": 8,
   "metadata": {},
   "outputs": [
    {
     "data": {
      "text/html": [
       "<div>\n",
       "<style scoped>\n",
       "    .dataframe tbody tr th:only-of-type {\n",
       "        vertical-align: middle;\n",
       "    }\n",
       "\n",
       "    .dataframe tbody tr th {\n",
       "        vertical-align: top;\n",
       "    }\n",
       "\n",
       "    .dataframe thead th {\n",
       "        text-align: right;\n",
       "    }\n",
       "</style>\n",
       "<table border=\"1\" class=\"dataframe\">\n",
       "  <thead>\n",
       "    <tr style=\"text-align: right;\">\n",
       "      <th></th>\n",
       "      <th>date</th>\n",
       "      <th>msg</th>\n",
       "    </tr>\n",
       "  </thead>\n",
       "  <tbody>\n",
       "    <tr>\n",
       "      <th>0</th>\n",
       "      <td>2013-12-15 00:50:00</td>\n",
       "      <td>ищу на сегодня мужика 37</td>\n",
       "    </tr>\n",
       "    <tr>\n",
       "      <th>1</th>\n",
       "      <td>2014-04-29 23:40:00</td>\n",
       "      <td>ПАРЕНЬ БИ ИЩЕТ ДРУГА СЕЙЧАС!! СМС ММС 0955532826</td>\n",
       "    </tr>\n",
       "    <tr>\n",
       "      <th>2</th>\n",
       "      <td>2012-12-30 00:21:00</td>\n",
       "      <td>Днепр.м 43 позн.с д/ж *.о  067.16.34.576</td>\n",
       "    </tr>\n",
       "    <tr>\n",
       "      <th>3</th>\n",
       "      <td>2014-11-28 00:31:00</td>\n",
       "      <td>КИЕВ ИЩУ Д/Ж ДО 45 МНЕ СЕЙЧАС СКУЧНО 093 629 9...</td>\n",
       "    </tr>\n",
       "    <tr>\n",
       "      <th>4</th>\n",
       "      <td>2013-10-26 23:11:00</td>\n",
       "      <td>Зая я тебя никогда не обижу  люблю тебя!)  Даше</td>\n",
       "    </tr>\n",
       "  </tbody>\n",
       "</table>\n",
       "</div>"
      ],
      "text/plain": [
       "                  date                                                msg\n",
       "0  2013-12-15 00:50:00                           ищу на сегодня мужика 37\n",
       "1  2014-04-29 23:40:00   ПАРЕНЬ БИ ИЩЕТ ДРУГА СЕЙЧАС!! СМС ММС 0955532826\n",
       "2  2012-12-30 00:21:00           Днепр.м 43 позн.с д/ж *.о  067.16.34.576\n",
       "3  2014-11-28 00:31:00  КИЕВ ИЩУ Д/Ж ДО 45 МНЕ СЕЙЧАС СКУЧНО 093 629 9...\n",
       "4  2013-10-26 23:11:00    Зая я тебя никогда не обижу  люблю тебя!)  Даше"
      ]
     },
     "execution_count": 8,
     "metadata": {},
     "output_type": "execute_result"
    }
   ],
   "source": [
    "time.head()"
   ]
  },
  {
   "cell_type": "code",
   "execution_count": 9,
   "metadata": {},
   "outputs": [
    {
     "name": "stdout",
     "output_type": "stream",
     "text": [
      "<class 'pandas.core.frame.DataFrame'>\n",
      "RangeIndex: 1000 entries, 0 to 999\n",
      "Data columns (total 4 columns):\n",
      " #   Column      Non-Null Count  Dtype \n",
      "---  ------      --------------  ----- \n",
      " 0   date        1000 non-null   object\n",
      " 1   product_id  1000 non-null   int64 \n",
      " 2   city_id     1000 non-null   int64 \n",
      " 3   orders      1000 non-null   int64 \n",
      "dtypes: int64(3), object(1)\n",
      "memory usage: 31.4+ KB\n"
     ]
    }
   ],
   "source": [
    "date.info()"
   ]
  },
  {
   "cell_type": "code",
   "execution_count": 10,
   "metadata": {},
   "outputs": [
    {
     "name": "stdout",
     "output_type": "stream",
     "text": [
      "<class 'pandas.core.frame.DataFrame'>\n",
      "RangeIndex: 1000 entries, 0 to 999\n",
      "Data columns (total 2 columns):\n",
      " #   Column  Non-Null Count  Dtype \n",
      "---  ------  --------------  ----- \n",
      " 0   date    1000 non-null   object\n",
      " 1   msg     1000 non-null   object\n",
      "dtypes: object(2)\n",
      "memory usage: 15.8+ KB\n"
     ]
    }
   ],
   "source": [
    "time.info()"
   ]
  },
  {
   "cell_type": "markdown",
   "metadata": {},
   "source": [
    "# Working with Dates"
   ]
  },
  {
   "cell_type": "code",
   "execution_count": 11,
   "metadata": {},
   "outputs": [],
   "source": [
    "# Converting to datetime datatype\n",
    "date['date'] = pd.to_datetime(date['date'])"
   ]
  },
  {
   "cell_type": "code",
   "execution_count": 12,
   "metadata": {},
   "outputs": [
    {
     "name": "stdout",
     "output_type": "stream",
     "text": [
      "<class 'pandas.core.frame.DataFrame'>\n",
      "RangeIndex: 1000 entries, 0 to 999\n",
      "Data columns (total 4 columns):\n",
      " #   Column      Non-Null Count  Dtype         \n",
      "---  ------      --------------  -----         \n",
      " 0   date        1000 non-null   datetime64[ns]\n",
      " 1   product_id  1000 non-null   int64         \n",
      " 2   city_id     1000 non-null   int64         \n",
      " 3   orders      1000 non-null   int64         \n",
      "dtypes: datetime64[ns](1), int64(3)\n",
      "memory usage: 31.4 KB\n"
     ]
    }
   ],
   "source": [
    "date.info()"
   ]
  },
  {
   "cell_type": "markdown",
   "metadata": {},
   "source": [
    "#### 1. Extract year"
   ]
  },
  {
   "cell_type": "code",
   "execution_count": 13,
   "metadata": {},
   "outputs": [
    {
     "data": {
      "text/html": [
       "<div>\n",
       "<style scoped>\n",
       "    .dataframe tbody tr th:only-of-type {\n",
       "        vertical-align: middle;\n",
       "    }\n",
       "\n",
       "    .dataframe tbody tr th {\n",
       "        vertical-align: top;\n",
       "    }\n",
       "\n",
       "    .dataframe thead th {\n",
       "        text-align: right;\n",
       "    }\n",
       "</style>\n",
       "<table border=\"1\" class=\"dataframe\">\n",
       "  <thead>\n",
       "    <tr style=\"text-align: right;\">\n",
       "      <th></th>\n",
       "      <th>date</th>\n",
       "      <th>product_id</th>\n",
       "      <th>city_id</th>\n",
       "      <th>orders</th>\n",
       "      <th>date_year</th>\n",
       "    </tr>\n",
       "  </thead>\n",
       "  <tbody>\n",
       "    <tr>\n",
       "      <th>779</th>\n",
       "      <td>2019-07-31</td>\n",
       "      <td>6174</td>\n",
       "      <td>3</td>\n",
       "      <td>4</td>\n",
       "      <td>2019</td>\n",
       "    </tr>\n",
       "    <tr>\n",
       "      <th>315</th>\n",
       "      <td>2018-11-10</td>\n",
       "      <td>3345</td>\n",
       "      <td>13</td>\n",
       "      <td>23</td>\n",
       "      <td>2018</td>\n",
       "    </tr>\n",
       "    <tr>\n",
       "      <th>176</th>\n",
       "      <td>2018-12-16</td>\n",
       "      <td>1475</td>\n",
       "      <td>16</td>\n",
       "      <td>8</td>\n",
       "      <td>2018</td>\n",
       "    </tr>\n",
       "    <tr>\n",
       "      <th>518</th>\n",
       "      <td>2018-07-26</td>\n",
       "      <td>50</td>\n",
       "      <td>2</td>\n",
       "      <td>15</td>\n",
       "      <td>2018</td>\n",
       "    </tr>\n",
       "    <tr>\n",
       "      <th>533</th>\n",
       "      <td>2019-01-22</td>\n",
       "      <td>6291</td>\n",
       "      <td>27</td>\n",
       "      <td>1</td>\n",
       "      <td>2019</td>\n",
       "    </tr>\n",
       "  </tbody>\n",
       "</table>\n",
       "</div>"
      ],
      "text/plain": [
       "          date  product_id  city_id  orders  date_year\n",
       "779 2019-07-31        6174        3       4       2019\n",
       "315 2018-11-10        3345       13      23       2018\n",
       "176 2018-12-16        1475       16       8       2018\n",
       "518 2018-07-26          50        2      15       2018\n",
       "533 2019-01-22        6291       27       1       2019"
      ]
     },
     "execution_count": 13,
     "metadata": {},
     "output_type": "execute_result"
    }
   ],
   "source": [
    "date['date_year'] = date['date'].dt.year\n",
    "\n",
    "date.sample(5)"
   ]
  },
  {
   "cell_type": "markdown",
   "metadata": {},
   "source": [
    "#### 2. Extract Month"
   ]
  },
  {
   "cell_type": "code",
   "execution_count": 14,
   "metadata": {},
   "outputs": [
    {
     "data": {
      "text/html": [
       "<div>\n",
       "<style scoped>\n",
       "    .dataframe tbody tr th:only-of-type {\n",
       "        vertical-align: middle;\n",
       "    }\n",
       "\n",
       "    .dataframe tbody tr th {\n",
       "        vertical-align: top;\n",
       "    }\n",
       "\n",
       "    .dataframe thead th {\n",
       "        text-align: right;\n",
       "    }\n",
       "</style>\n",
       "<table border=\"1\" class=\"dataframe\">\n",
       "  <thead>\n",
       "    <tr style=\"text-align: right;\">\n",
       "      <th></th>\n",
       "      <th>date</th>\n",
       "      <th>product_id</th>\n",
       "      <th>city_id</th>\n",
       "      <th>orders</th>\n",
       "      <th>date_year</th>\n",
       "      <th>date_month_no</th>\n",
       "    </tr>\n",
       "  </thead>\n",
       "  <tbody>\n",
       "    <tr>\n",
       "      <th>0</th>\n",
       "      <td>2019-12-10</td>\n",
       "      <td>5628</td>\n",
       "      <td>25</td>\n",
       "      <td>3</td>\n",
       "      <td>2019</td>\n",
       "      <td>12</td>\n",
       "    </tr>\n",
       "    <tr>\n",
       "      <th>1</th>\n",
       "      <td>2018-08-15</td>\n",
       "      <td>3646</td>\n",
       "      <td>14</td>\n",
       "      <td>157</td>\n",
       "      <td>2018</td>\n",
       "      <td>8</td>\n",
       "    </tr>\n",
       "    <tr>\n",
       "      <th>2</th>\n",
       "      <td>2018-10-23</td>\n",
       "      <td>1859</td>\n",
       "      <td>25</td>\n",
       "      <td>1</td>\n",
       "      <td>2018</td>\n",
       "      <td>10</td>\n",
       "    </tr>\n",
       "    <tr>\n",
       "      <th>3</th>\n",
       "      <td>2019-08-17</td>\n",
       "      <td>7292</td>\n",
       "      <td>25</td>\n",
       "      <td>1</td>\n",
       "      <td>2019</td>\n",
       "      <td>8</td>\n",
       "    </tr>\n",
       "    <tr>\n",
       "      <th>4</th>\n",
       "      <td>2019-01-06</td>\n",
       "      <td>4344</td>\n",
       "      <td>25</td>\n",
       "      <td>3</td>\n",
       "      <td>2019</td>\n",
       "      <td>1</td>\n",
       "    </tr>\n",
       "  </tbody>\n",
       "</table>\n",
       "</div>"
      ],
      "text/plain": [
       "        date  product_id  city_id  orders  date_year  date_month_no\n",
       "0 2019-12-10        5628       25       3       2019             12\n",
       "1 2018-08-15        3646       14     157       2018              8\n",
       "2 2018-10-23        1859       25       1       2018             10\n",
       "3 2019-08-17        7292       25       1       2019              8\n",
       "4 2019-01-06        4344       25       3       2019              1"
      ]
     },
     "execution_count": 14,
     "metadata": {},
     "output_type": "execute_result"
    }
   ],
   "source": [
    "date['date_month_no'] = date['date'].dt.month\n",
    "\n",
    "date.head()"
   ]
  },
  {
   "cell_type": "code",
   "execution_count": 15,
   "metadata": {},
   "outputs": [
    {
     "data": {
      "text/html": [
       "<div>\n",
       "<style scoped>\n",
       "    .dataframe tbody tr th:only-of-type {\n",
       "        vertical-align: middle;\n",
       "    }\n",
       "\n",
       "    .dataframe tbody tr th {\n",
       "        vertical-align: top;\n",
       "    }\n",
       "\n",
       "    .dataframe thead th {\n",
       "        text-align: right;\n",
       "    }\n",
       "</style>\n",
       "<table border=\"1\" class=\"dataframe\">\n",
       "  <thead>\n",
       "    <tr style=\"text-align: right;\">\n",
       "      <th></th>\n",
       "      <th>date</th>\n",
       "      <th>product_id</th>\n",
       "      <th>city_id</th>\n",
       "      <th>orders</th>\n",
       "      <th>date_year</th>\n",
       "      <th>date_month_no</th>\n",
       "      <th>date_month_name</th>\n",
       "    </tr>\n",
       "  </thead>\n",
       "  <tbody>\n",
       "    <tr>\n",
       "      <th>0</th>\n",
       "      <td>2019-12-10</td>\n",
       "      <td>5628</td>\n",
       "      <td>25</td>\n",
       "      <td>3</td>\n",
       "      <td>2019</td>\n",
       "      <td>12</td>\n",
       "      <td>December</td>\n",
       "    </tr>\n",
       "    <tr>\n",
       "      <th>1</th>\n",
       "      <td>2018-08-15</td>\n",
       "      <td>3646</td>\n",
       "      <td>14</td>\n",
       "      <td>157</td>\n",
       "      <td>2018</td>\n",
       "      <td>8</td>\n",
       "      <td>August</td>\n",
       "    </tr>\n",
       "    <tr>\n",
       "      <th>2</th>\n",
       "      <td>2018-10-23</td>\n",
       "      <td>1859</td>\n",
       "      <td>25</td>\n",
       "      <td>1</td>\n",
       "      <td>2018</td>\n",
       "      <td>10</td>\n",
       "      <td>October</td>\n",
       "    </tr>\n",
       "    <tr>\n",
       "      <th>3</th>\n",
       "      <td>2019-08-17</td>\n",
       "      <td>7292</td>\n",
       "      <td>25</td>\n",
       "      <td>1</td>\n",
       "      <td>2019</td>\n",
       "      <td>8</td>\n",
       "      <td>August</td>\n",
       "    </tr>\n",
       "    <tr>\n",
       "      <th>4</th>\n",
       "      <td>2019-01-06</td>\n",
       "      <td>4344</td>\n",
       "      <td>25</td>\n",
       "      <td>3</td>\n",
       "      <td>2019</td>\n",
       "      <td>1</td>\n",
       "      <td>January</td>\n",
       "    </tr>\n",
       "  </tbody>\n",
       "</table>\n",
       "</div>"
      ],
      "text/plain": [
       "        date  product_id  city_id  orders  date_year  date_month_no  \\\n",
       "0 2019-12-10        5628       25       3       2019             12   \n",
       "1 2018-08-15        3646       14     157       2018              8   \n",
       "2 2018-10-23        1859       25       1       2018             10   \n",
       "3 2019-08-17        7292       25       1       2019              8   \n",
       "4 2019-01-06        4344       25       3       2019              1   \n",
       "\n",
       "  date_month_name  \n",
       "0        December  \n",
       "1          August  \n",
       "2         October  \n",
       "3          August  \n",
       "4         January  "
      ]
     },
     "execution_count": 15,
     "metadata": {},
     "output_type": "execute_result"
    }
   ],
   "source": [
    "date['date_month_name'] = date['date'].dt.month_name()\n",
    "\n",
    "date.head()"
   ]
  },
  {
   "cell_type": "markdown",
   "metadata": {},
   "source": [
    "#### Extract Days"
   ]
  },
  {
   "cell_type": "code",
   "execution_count": 16,
   "metadata": {},
   "outputs": [
    {
     "data": {
      "text/html": [
       "<div>\n",
       "<style scoped>\n",
       "    .dataframe tbody tr th:only-of-type {\n",
       "        vertical-align: middle;\n",
       "    }\n",
       "\n",
       "    .dataframe tbody tr th {\n",
       "        vertical-align: top;\n",
       "    }\n",
       "\n",
       "    .dataframe thead th {\n",
       "        text-align: right;\n",
       "    }\n",
       "</style>\n",
       "<table border=\"1\" class=\"dataframe\">\n",
       "  <thead>\n",
       "    <tr style=\"text-align: right;\">\n",
       "      <th></th>\n",
       "      <th>date</th>\n",
       "      <th>product_id</th>\n",
       "      <th>city_id</th>\n",
       "      <th>orders</th>\n",
       "      <th>date_year</th>\n",
       "      <th>date_month_no</th>\n",
       "      <th>date_month_name</th>\n",
       "      <th>date_day</th>\n",
       "    </tr>\n",
       "  </thead>\n",
       "  <tbody>\n",
       "    <tr>\n",
       "      <th>0</th>\n",
       "      <td>2019-12-10</td>\n",
       "      <td>5628</td>\n",
       "      <td>25</td>\n",
       "      <td>3</td>\n",
       "      <td>2019</td>\n",
       "      <td>12</td>\n",
       "      <td>December</td>\n",
       "      <td>10</td>\n",
       "    </tr>\n",
       "    <tr>\n",
       "      <th>1</th>\n",
       "      <td>2018-08-15</td>\n",
       "      <td>3646</td>\n",
       "      <td>14</td>\n",
       "      <td>157</td>\n",
       "      <td>2018</td>\n",
       "      <td>8</td>\n",
       "      <td>August</td>\n",
       "      <td>15</td>\n",
       "    </tr>\n",
       "    <tr>\n",
       "      <th>2</th>\n",
       "      <td>2018-10-23</td>\n",
       "      <td>1859</td>\n",
       "      <td>25</td>\n",
       "      <td>1</td>\n",
       "      <td>2018</td>\n",
       "      <td>10</td>\n",
       "      <td>October</td>\n",
       "      <td>23</td>\n",
       "    </tr>\n",
       "    <tr>\n",
       "      <th>3</th>\n",
       "      <td>2019-08-17</td>\n",
       "      <td>7292</td>\n",
       "      <td>25</td>\n",
       "      <td>1</td>\n",
       "      <td>2019</td>\n",
       "      <td>8</td>\n",
       "      <td>August</td>\n",
       "      <td>17</td>\n",
       "    </tr>\n",
       "    <tr>\n",
       "      <th>4</th>\n",
       "      <td>2019-01-06</td>\n",
       "      <td>4344</td>\n",
       "      <td>25</td>\n",
       "      <td>3</td>\n",
       "      <td>2019</td>\n",
       "      <td>1</td>\n",
       "      <td>January</td>\n",
       "      <td>6</td>\n",
       "    </tr>\n",
       "  </tbody>\n",
       "</table>\n",
       "</div>"
      ],
      "text/plain": [
       "        date  product_id  city_id  orders  date_year  date_month_no  \\\n",
       "0 2019-12-10        5628       25       3       2019             12   \n",
       "1 2018-08-15        3646       14     157       2018              8   \n",
       "2 2018-10-23        1859       25       1       2018             10   \n",
       "3 2019-08-17        7292       25       1       2019              8   \n",
       "4 2019-01-06        4344       25       3       2019              1   \n",
       "\n",
       "  date_month_name  date_day  \n",
       "0        December        10  \n",
       "1          August        15  \n",
       "2         October        23  \n",
       "3          August        17  \n",
       "4         January         6  "
      ]
     },
     "execution_count": 16,
     "metadata": {},
     "output_type": "execute_result"
    }
   ],
   "source": [
    "date['date_day'] = date['date'].dt.day\n",
    "\n",
    "date.head()"
   ]
  },
  {
   "cell_type": "code",
   "execution_count": 17,
   "metadata": {},
   "outputs": [
    {
     "data": {
      "text/html": [
       "<div>\n",
       "<style scoped>\n",
       "    .dataframe tbody tr th:only-of-type {\n",
       "        vertical-align: middle;\n",
       "    }\n",
       "\n",
       "    .dataframe tbody tr th {\n",
       "        vertical-align: top;\n",
       "    }\n",
       "\n",
       "    .dataframe thead th {\n",
       "        text-align: right;\n",
       "    }\n",
       "</style>\n",
       "<table border=\"1\" class=\"dataframe\">\n",
       "  <thead>\n",
       "    <tr style=\"text-align: right;\">\n",
       "      <th></th>\n",
       "      <th>date</th>\n",
       "      <th>product_id</th>\n",
       "      <th>city_id</th>\n",
       "      <th>orders</th>\n",
       "      <th>date_year</th>\n",
       "      <th>date_month_no</th>\n",
       "      <th>date_month_name</th>\n",
       "      <th>date_day</th>\n",
       "      <th>date_dow</th>\n",
       "    </tr>\n",
       "  </thead>\n",
       "  <tbody>\n",
       "    <tr>\n",
       "      <th>0</th>\n",
       "      <td>2019-12-10</td>\n",
       "      <td>5628</td>\n",
       "      <td>25</td>\n",
       "      <td>3</td>\n",
       "      <td>2019</td>\n",
       "      <td>12</td>\n",
       "      <td>December</td>\n",
       "      <td>10</td>\n",
       "      <td>1</td>\n",
       "    </tr>\n",
       "    <tr>\n",
       "      <th>1</th>\n",
       "      <td>2018-08-15</td>\n",
       "      <td>3646</td>\n",
       "      <td>14</td>\n",
       "      <td>157</td>\n",
       "      <td>2018</td>\n",
       "      <td>8</td>\n",
       "      <td>August</td>\n",
       "      <td>15</td>\n",
       "      <td>2</td>\n",
       "    </tr>\n",
       "    <tr>\n",
       "      <th>2</th>\n",
       "      <td>2018-10-23</td>\n",
       "      <td>1859</td>\n",
       "      <td>25</td>\n",
       "      <td>1</td>\n",
       "      <td>2018</td>\n",
       "      <td>10</td>\n",
       "      <td>October</td>\n",
       "      <td>23</td>\n",
       "      <td>1</td>\n",
       "    </tr>\n",
       "    <tr>\n",
       "      <th>3</th>\n",
       "      <td>2019-08-17</td>\n",
       "      <td>7292</td>\n",
       "      <td>25</td>\n",
       "      <td>1</td>\n",
       "      <td>2019</td>\n",
       "      <td>8</td>\n",
       "      <td>August</td>\n",
       "      <td>17</td>\n",
       "      <td>5</td>\n",
       "    </tr>\n",
       "    <tr>\n",
       "      <th>4</th>\n",
       "      <td>2019-01-06</td>\n",
       "      <td>4344</td>\n",
       "      <td>25</td>\n",
       "      <td>3</td>\n",
       "      <td>2019</td>\n",
       "      <td>1</td>\n",
       "      <td>January</td>\n",
       "      <td>6</td>\n",
       "      <td>6</td>\n",
       "    </tr>\n",
       "  </tbody>\n",
       "</table>\n",
       "</div>"
      ],
      "text/plain": [
       "        date  product_id  city_id  orders  date_year  date_month_no  \\\n",
       "0 2019-12-10        5628       25       3       2019             12   \n",
       "1 2018-08-15        3646       14     157       2018              8   \n",
       "2 2018-10-23        1859       25       1       2018             10   \n",
       "3 2019-08-17        7292       25       1       2019              8   \n",
       "4 2019-01-06        4344       25       3       2019              1   \n",
       "\n",
       "  date_month_name  date_day  date_dow  \n",
       "0        December        10         1  \n",
       "1          August        15         2  \n",
       "2         October        23         1  \n",
       "3          August        17         5  \n",
       "4         January         6         6  "
      ]
     },
     "execution_count": 17,
     "metadata": {},
     "output_type": "execute_result"
    }
   ],
   "source": [
    "# day of week\n",
    "date['date_dow'] = date['date'].dt.dayofweek\n",
    "\n",
    "date.head()\n"
   ]
  },
  {
   "cell_type": "code",
   "execution_count": 18,
   "metadata": {},
   "outputs": [
    {
     "data": {
      "text/html": [
       "<div>\n",
       "<style scoped>\n",
       "    .dataframe tbody tr th:only-of-type {\n",
       "        vertical-align: middle;\n",
       "    }\n",
       "\n",
       "    .dataframe tbody tr th {\n",
       "        vertical-align: top;\n",
       "    }\n",
       "\n",
       "    .dataframe thead th {\n",
       "        text-align: right;\n",
       "    }\n",
       "</style>\n",
       "<table border=\"1\" class=\"dataframe\">\n",
       "  <thead>\n",
       "    <tr style=\"text-align: right;\">\n",
       "      <th></th>\n",
       "      <th>date</th>\n",
       "      <th>date_year</th>\n",
       "      <th>date_month_no</th>\n",
       "      <th>date_month_name</th>\n",
       "      <th>date_day</th>\n",
       "      <th>date_dow</th>\n",
       "      <th>date_dow_name</th>\n",
       "    </tr>\n",
       "  </thead>\n",
       "  <tbody>\n",
       "    <tr>\n",
       "      <th>0</th>\n",
       "      <td>2019-12-10</td>\n",
       "      <td>2019</td>\n",
       "      <td>12</td>\n",
       "      <td>December</td>\n",
       "      <td>10</td>\n",
       "      <td>1</td>\n",
       "      <td>Tuesday</td>\n",
       "    </tr>\n",
       "    <tr>\n",
       "      <th>1</th>\n",
       "      <td>2018-08-15</td>\n",
       "      <td>2018</td>\n",
       "      <td>8</td>\n",
       "      <td>August</td>\n",
       "      <td>15</td>\n",
       "      <td>2</td>\n",
       "      <td>Wednesday</td>\n",
       "    </tr>\n",
       "    <tr>\n",
       "      <th>2</th>\n",
       "      <td>2018-10-23</td>\n",
       "      <td>2018</td>\n",
       "      <td>10</td>\n",
       "      <td>October</td>\n",
       "      <td>23</td>\n",
       "      <td>1</td>\n",
       "      <td>Tuesday</td>\n",
       "    </tr>\n",
       "    <tr>\n",
       "      <th>3</th>\n",
       "      <td>2019-08-17</td>\n",
       "      <td>2019</td>\n",
       "      <td>8</td>\n",
       "      <td>August</td>\n",
       "      <td>17</td>\n",
       "      <td>5</td>\n",
       "      <td>Saturday</td>\n",
       "    </tr>\n",
       "    <tr>\n",
       "      <th>4</th>\n",
       "      <td>2019-01-06</td>\n",
       "      <td>2019</td>\n",
       "      <td>1</td>\n",
       "      <td>January</td>\n",
       "      <td>6</td>\n",
       "      <td>6</td>\n",
       "      <td>Sunday</td>\n",
       "    </tr>\n",
       "  </tbody>\n",
       "</table>\n",
       "</div>"
      ],
      "text/plain": [
       "        date  date_year  date_month_no date_month_name  date_day  date_dow  \\\n",
       "0 2019-12-10       2019             12        December        10         1   \n",
       "1 2018-08-15       2018              8          August        15         2   \n",
       "2 2018-10-23       2018             10         October        23         1   \n",
       "3 2019-08-17       2019              8          August        17         5   \n",
       "4 2019-01-06       2019              1         January         6         6   \n",
       "\n",
       "  date_dow_name  \n",
       "0       Tuesday  \n",
       "1     Wednesday  \n",
       "2       Tuesday  \n",
       "3      Saturday  \n",
       "4        Sunday  "
      ]
     },
     "execution_count": 18,
     "metadata": {},
     "output_type": "execute_result"
    }
   ],
   "source": [
    "# day of week - name\n",
    "\n",
    "date['date_dow_name'] = date['date'].dt.day_name()\n",
    "\n",
    "date.drop(columns=['product_id','city_id','orders']).head()"
   ]
  },
  {
   "cell_type": "code",
   "execution_count": 19,
   "metadata": {},
   "outputs": [
    {
     "data": {
      "text/html": [
       "<div>\n",
       "<style scoped>\n",
       "    .dataframe tbody tr th:only-of-type {\n",
       "        vertical-align: middle;\n",
       "    }\n",
       "\n",
       "    .dataframe tbody tr th {\n",
       "        vertical-align: top;\n",
       "    }\n",
       "\n",
       "    .dataframe thead th {\n",
       "        text-align: right;\n",
       "    }\n",
       "</style>\n",
       "<table border=\"1\" class=\"dataframe\">\n",
       "  <thead>\n",
       "    <tr style=\"text-align: right;\">\n",
       "      <th></th>\n",
       "      <th>date</th>\n",
       "      <th>date_year</th>\n",
       "      <th>date_month_no</th>\n",
       "      <th>date_month_name</th>\n",
       "      <th>date_day</th>\n",
       "      <th>date_dow</th>\n",
       "      <th>date_dow_name</th>\n",
       "      <th>date_is_weekend</th>\n",
       "    </tr>\n",
       "  </thead>\n",
       "  <tbody>\n",
       "    <tr>\n",
       "      <th>0</th>\n",
       "      <td>2019-12-10</td>\n",
       "      <td>2019</td>\n",
       "      <td>12</td>\n",
       "      <td>December</td>\n",
       "      <td>10</td>\n",
       "      <td>1</td>\n",
       "      <td>Tuesday</td>\n",
       "      <td>0</td>\n",
       "    </tr>\n",
       "    <tr>\n",
       "      <th>1</th>\n",
       "      <td>2018-08-15</td>\n",
       "      <td>2018</td>\n",
       "      <td>8</td>\n",
       "      <td>August</td>\n",
       "      <td>15</td>\n",
       "      <td>2</td>\n",
       "      <td>Wednesday</td>\n",
       "      <td>0</td>\n",
       "    </tr>\n",
       "    <tr>\n",
       "      <th>2</th>\n",
       "      <td>2018-10-23</td>\n",
       "      <td>2018</td>\n",
       "      <td>10</td>\n",
       "      <td>October</td>\n",
       "      <td>23</td>\n",
       "      <td>1</td>\n",
       "      <td>Tuesday</td>\n",
       "      <td>0</td>\n",
       "    </tr>\n",
       "    <tr>\n",
       "      <th>3</th>\n",
       "      <td>2019-08-17</td>\n",
       "      <td>2019</td>\n",
       "      <td>8</td>\n",
       "      <td>August</td>\n",
       "      <td>17</td>\n",
       "      <td>5</td>\n",
       "      <td>Saturday</td>\n",
       "      <td>1</td>\n",
       "    </tr>\n",
       "    <tr>\n",
       "      <th>4</th>\n",
       "      <td>2019-01-06</td>\n",
       "      <td>2019</td>\n",
       "      <td>1</td>\n",
       "      <td>January</td>\n",
       "      <td>6</td>\n",
       "      <td>6</td>\n",
       "      <td>Sunday</td>\n",
       "      <td>1</td>\n",
       "    </tr>\n",
       "  </tbody>\n",
       "</table>\n",
       "</div>"
      ],
      "text/plain": [
       "        date  date_year  date_month_no date_month_name  date_day  date_dow  \\\n",
       "0 2019-12-10       2019             12        December        10         1   \n",
       "1 2018-08-15       2018              8          August        15         2   \n",
       "2 2018-10-23       2018             10         October        23         1   \n",
       "3 2019-08-17       2019              8          August        17         5   \n",
       "4 2019-01-06       2019              1         January         6         6   \n",
       "\n",
       "  date_dow_name  date_is_weekend  \n",
       "0       Tuesday                0  \n",
       "1     Wednesday                0  \n",
       "2       Tuesday                0  \n",
       "3      Saturday                1  \n",
       "4        Sunday                1  "
      ]
     },
     "execution_count": 19,
     "metadata": {},
     "output_type": "execute_result"
    }
   ],
   "source": [
    "# is weekend?\n",
    "\n",
    "date['date_is_weekend'] = np.where(date['date_dow_name'].isin(['Sunday', 'Saturday']), 1,0)\n",
    "\n",
    "date.drop(columns=['product_id','city_id','orders']).head()"
   ]
  },
  {
   "cell_type": "markdown",
   "metadata": {},
   "source": [
    "#### Extract week of the year"
   ]
  },
  {
   "cell_type": "code",
   "execution_count": 42,
   "metadata": {},
   "outputs": [
    {
     "ename": "AttributeError",
     "evalue": "'DatetimeProperties' object has no attribute 'week'",
     "output_type": "error",
     "traceback": [
      "\u001b[1;31m---------------------------------------------------------------------------\u001b[0m",
      "\u001b[1;31mAttributeError\u001b[0m                            Traceback (most recent call last)",
      "Cell \u001b[1;32mIn[42], line 1\u001b[0m\n\u001b[1;32m----> 1\u001b[0m date[\u001b[38;5;124m'\u001b[39m\u001b[38;5;124mdate_week\u001b[39m\u001b[38;5;124m'\u001b[39m] \u001b[38;5;241m=\u001b[39m date[\u001b[38;5;124m'\u001b[39m\u001b[38;5;124mdate\u001b[39m\u001b[38;5;124m'\u001b[39m]\u001b[38;5;241m.\u001b[39mdt\u001b[38;5;241m.\u001b[39mweek\n\u001b[0;32m      3\u001b[0m date\u001b[38;5;241m.\u001b[39mdrop(columns\u001b[38;5;241m=\u001b[39m[\u001b[38;5;124m'\u001b[39m\u001b[38;5;124mproduct_id\u001b[39m\u001b[38;5;124m'\u001b[39m,\u001b[38;5;124m'\u001b[39m\u001b[38;5;124mcity_id\u001b[39m\u001b[38;5;124m'\u001b[39m,\u001b[38;5;124m'\u001b[39m\u001b[38;5;124morders\u001b[39m\u001b[38;5;124m'\u001b[39m])\u001b[38;5;241m.\u001b[39mhead()\n",
      "\u001b[1;31mAttributeError\u001b[0m: 'DatetimeProperties' object has no attribute 'week'"
     ]
    }
   ],
   "source": [
    "date['date_week'] = date['date'].dt.week\n",
    "\n",
    "date.drop(columns=['product_id','city_id','orders']).head()"
   ]
  },
  {
   "cell_type": "markdown",
   "metadata": {},
   "source": [
    "#### Extract Quarter"
   ]
  },
  {
   "cell_type": "code",
   "execution_count": 43,
   "metadata": {},
   "outputs": [
    {
     "data": {
      "text/html": [
       "<div>\n",
       "<style scoped>\n",
       "    .dataframe tbody tr th:only-of-type {\n",
       "        vertical-align: middle;\n",
       "    }\n",
       "\n",
       "    .dataframe tbody tr th {\n",
       "        vertical-align: top;\n",
       "    }\n",
       "\n",
       "    .dataframe thead th {\n",
       "        text-align: right;\n",
       "    }\n",
       "</style>\n",
       "<table border=\"1\" class=\"dataframe\">\n",
       "  <thead>\n",
       "    <tr style=\"text-align: right;\">\n",
       "      <th></th>\n",
       "      <th>date</th>\n",
       "      <th>date_year</th>\n",
       "      <th>date_month_no</th>\n",
       "      <th>date_month_name</th>\n",
       "      <th>date_day</th>\n",
       "      <th>date_dow</th>\n",
       "      <th>date_dow_name</th>\n",
       "      <th>date_is_weekend</th>\n",
       "      <th>quarter</th>\n",
       "      <th>semester</th>\n",
       "    </tr>\n",
       "  </thead>\n",
       "  <tbody>\n",
       "    <tr>\n",
       "      <th>0</th>\n",
       "      <td>2019-12-10</td>\n",
       "      <td>2019</td>\n",
       "      <td>12</td>\n",
       "      <td>December</td>\n",
       "      <td>10</td>\n",
       "      <td>1</td>\n",
       "      <td>Tuesday</td>\n",
       "      <td>0</td>\n",
       "      <td>4</td>\n",
       "      <td>2</td>\n",
       "    </tr>\n",
       "    <tr>\n",
       "      <th>1</th>\n",
       "      <td>2018-08-15</td>\n",
       "      <td>2018</td>\n",
       "      <td>8</td>\n",
       "      <td>August</td>\n",
       "      <td>15</td>\n",
       "      <td>2</td>\n",
       "      <td>Wednesday</td>\n",
       "      <td>0</td>\n",
       "      <td>3</td>\n",
       "      <td>2</td>\n",
       "    </tr>\n",
       "    <tr>\n",
       "      <th>2</th>\n",
       "      <td>2018-10-23</td>\n",
       "      <td>2018</td>\n",
       "      <td>10</td>\n",
       "      <td>October</td>\n",
       "      <td>23</td>\n",
       "      <td>1</td>\n",
       "      <td>Tuesday</td>\n",
       "      <td>0</td>\n",
       "      <td>4</td>\n",
       "      <td>2</td>\n",
       "    </tr>\n",
       "    <tr>\n",
       "      <th>3</th>\n",
       "      <td>2019-08-17</td>\n",
       "      <td>2019</td>\n",
       "      <td>8</td>\n",
       "      <td>August</td>\n",
       "      <td>17</td>\n",
       "      <td>5</td>\n",
       "      <td>Saturday</td>\n",
       "      <td>1</td>\n",
       "      <td>3</td>\n",
       "      <td>2</td>\n",
       "    </tr>\n",
       "    <tr>\n",
       "      <th>4</th>\n",
       "      <td>2019-01-06</td>\n",
       "      <td>2019</td>\n",
       "      <td>1</td>\n",
       "      <td>January</td>\n",
       "      <td>6</td>\n",
       "      <td>6</td>\n",
       "      <td>Sunday</td>\n",
       "      <td>1</td>\n",
       "      <td>1</td>\n",
       "      <td>1</td>\n",
       "    </tr>\n",
       "  </tbody>\n",
       "</table>\n",
       "</div>"
      ],
      "text/plain": [
       "        date  date_year  date_month_no date_month_name  date_day  date_dow  \\\n",
       "0 2019-12-10       2019             12        December        10         1   \n",
       "1 2018-08-15       2018              8          August        15         2   \n",
       "2 2018-10-23       2018             10         October        23         1   \n",
       "3 2019-08-17       2019              8          August        17         5   \n",
       "4 2019-01-06       2019              1         January         6         6   \n",
       "\n",
       "  date_dow_name  date_is_weekend  quarter  semester  \n",
       "0       Tuesday                0        4         2  \n",
       "1     Wednesday                0        3         2  \n",
       "2       Tuesday                0        4         2  \n",
       "3      Saturday                1        3         2  \n",
       "4        Sunday                1        1         1  "
      ]
     },
     "execution_count": 43,
     "metadata": {},
     "output_type": "execute_result"
    }
   ],
   "source": [
    "date['quarter'] = date['date'].dt.quarter\n",
    "\n",
    "date.drop(columns=['product_id','city_id','orders']).head()"
   ]
  },
  {
   "cell_type": "markdown",
   "metadata": {},
   "source": [
    "#### Extract Semester"
   ]
  },
  {
   "cell_type": "code",
   "execution_count": 25,
   "metadata": {},
   "outputs": [
    {
     "data": {
      "text/html": [
       "<div>\n",
       "<style scoped>\n",
       "    .dataframe tbody tr th:only-of-type {\n",
       "        vertical-align: middle;\n",
       "    }\n",
       "\n",
       "    .dataframe tbody tr th {\n",
       "        vertical-align: top;\n",
       "    }\n",
       "\n",
       "    .dataframe thead th {\n",
       "        text-align: right;\n",
       "    }\n",
       "</style>\n",
       "<table border=\"1\" class=\"dataframe\">\n",
       "  <thead>\n",
       "    <tr style=\"text-align: right;\">\n",
       "      <th></th>\n",
       "      <th>date</th>\n",
       "      <th>date_year</th>\n",
       "      <th>date_month_no</th>\n",
       "      <th>date_month_name</th>\n",
       "      <th>date_day</th>\n",
       "      <th>date_dow</th>\n",
       "      <th>date_dow_name</th>\n",
       "      <th>date_is_weekend</th>\n",
       "      <th>quarter</th>\n",
       "      <th>semester</th>\n",
       "    </tr>\n",
       "  </thead>\n",
       "  <tbody>\n",
       "    <tr>\n",
       "      <th>0</th>\n",
       "      <td>2019-12-10</td>\n",
       "      <td>2019</td>\n",
       "      <td>12</td>\n",
       "      <td>December</td>\n",
       "      <td>10</td>\n",
       "      <td>1</td>\n",
       "      <td>Tuesday</td>\n",
       "      <td>0</td>\n",
       "      <td>4</td>\n",
       "      <td>2</td>\n",
       "    </tr>\n",
       "    <tr>\n",
       "      <th>1</th>\n",
       "      <td>2018-08-15</td>\n",
       "      <td>2018</td>\n",
       "      <td>8</td>\n",
       "      <td>August</td>\n",
       "      <td>15</td>\n",
       "      <td>2</td>\n",
       "      <td>Wednesday</td>\n",
       "      <td>0</td>\n",
       "      <td>3</td>\n",
       "      <td>2</td>\n",
       "    </tr>\n",
       "    <tr>\n",
       "      <th>2</th>\n",
       "      <td>2018-10-23</td>\n",
       "      <td>2018</td>\n",
       "      <td>10</td>\n",
       "      <td>October</td>\n",
       "      <td>23</td>\n",
       "      <td>1</td>\n",
       "      <td>Tuesday</td>\n",
       "      <td>0</td>\n",
       "      <td>4</td>\n",
       "      <td>2</td>\n",
       "    </tr>\n",
       "    <tr>\n",
       "      <th>3</th>\n",
       "      <td>2019-08-17</td>\n",
       "      <td>2019</td>\n",
       "      <td>8</td>\n",
       "      <td>August</td>\n",
       "      <td>17</td>\n",
       "      <td>5</td>\n",
       "      <td>Saturday</td>\n",
       "      <td>1</td>\n",
       "      <td>3</td>\n",
       "      <td>2</td>\n",
       "    </tr>\n",
       "    <tr>\n",
       "      <th>4</th>\n",
       "      <td>2019-01-06</td>\n",
       "      <td>2019</td>\n",
       "      <td>1</td>\n",
       "      <td>January</td>\n",
       "      <td>6</td>\n",
       "      <td>6</td>\n",
       "      <td>Sunday</td>\n",
       "      <td>1</td>\n",
       "      <td>1</td>\n",
       "      <td>1</td>\n",
       "    </tr>\n",
       "  </tbody>\n",
       "</table>\n",
       "</div>"
      ],
      "text/plain": [
       "        date  date_year  date_month_no date_month_name  date_day  date_dow  \\\n",
       "0 2019-12-10       2019             12        December        10         1   \n",
       "1 2018-08-15       2018              8          August        15         2   \n",
       "2 2018-10-23       2018             10         October        23         1   \n",
       "3 2019-08-17       2019              8          August        17         5   \n",
       "4 2019-01-06       2019              1         January         6         6   \n",
       "\n",
       "  date_dow_name  date_is_weekend  quarter  semester  \n",
       "0       Tuesday                0        4         2  \n",
       "1     Wednesday                0        3         2  \n",
       "2       Tuesday                0        4         2  \n",
       "3      Saturday                1        3         2  \n",
       "4        Sunday                1        1         1  "
      ]
     },
     "execution_count": 25,
     "metadata": {},
     "output_type": "execute_result"
    }
   ],
   "source": [
    "date['semester'] = np.where(date['quarter'].isin([1,2]), 1, 2)\n",
    "\n",
    "date.drop(columns=['product_id','city_id','orders']).head()"
   ]
  },
  {
   "cell_type": "markdown",
   "metadata": {},
   "source": [
    "#### Extract Time elapsed between dates"
   ]
  },
  {
   "cell_type": "code",
   "execution_count": 26,
   "metadata": {},
   "outputs": [
    {
     "data": {
      "text/plain": [
       "datetime.datetime(2024, 7, 26, 14, 51, 40, 727559)"
      ]
     },
     "execution_count": 26,
     "metadata": {},
     "output_type": "execute_result"
    }
   ],
   "source": [
    "import datetime\n",
    "\n",
    "today = datetime.datetime.today()\n",
    "\n",
    "today"
   ]
  },
  {
   "cell_type": "code",
   "execution_count": 27,
   "metadata": {},
   "outputs": [
    {
     "data": {
      "text/plain": [
       "0     1690 days 14:51:40.727559\n",
       "1     2172 days 14:51:40.727559\n",
       "2     2103 days 14:51:40.727559\n",
       "3     1805 days 14:51:40.727559\n",
       "4     2028 days 14:51:40.727559\n",
       "                 ...           \n",
       "995   2118 days 14:51:40.727559\n",
       "996   2059 days 14:51:40.727559\n",
       "997   1907 days 14:51:40.727559\n",
       "998   1972 days 14:51:40.727559\n",
       "999   1746 days 14:51:40.727559\n",
       "Name: date, Length: 1000, dtype: timedelta64[ns]"
      ]
     },
     "execution_count": 27,
     "metadata": {},
     "output_type": "execute_result"
    }
   ],
   "source": [
    "today - date['date']"
   ]
  },
  {
   "cell_type": "code",
   "execution_count": 28,
   "metadata": {},
   "outputs": [
    {
     "data": {
      "text/plain": [
       "0      1690\n",
       "1      2172\n",
       "2      2103\n",
       "3      1805\n",
       "4      2028\n",
       "       ... \n",
       "995    2118\n",
       "996    2059\n",
       "997    1907\n",
       "998    1972\n",
       "999    1746\n",
       "Name: date, Length: 1000, dtype: int64"
      ]
     },
     "execution_count": 28,
     "metadata": {},
     "output_type": "execute_result"
    }
   ],
   "source": [
    "(today - date['date']).dt.days"
   ]
  },
  {
   "cell_type": "code",
   "execution_count": 29,
   "metadata": {},
   "outputs": [
    {
     "data": {
      "text/plain": [
       "0      55.0\n",
       "1      70.0\n",
       "2      68.0\n",
       "3      58.0\n",
       "4      65.0\n",
       "       ... \n",
       "995    68.0\n",
       "996    66.0\n",
       "997    62.0\n",
       "998    64.0\n",
       "999    56.0\n",
       "Name: date, Length: 1000, dtype: float64"
      ]
     },
     "execution_count": 29,
     "metadata": {},
     "output_type": "execute_result"
    }
   ],
   "source": [
    "# Months passed\n",
    "\n",
    "np.round((today -date['date']) / np.timedelta64(1, 'M'),0)"
   ]
  },
  {
   "cell_type": "code",
   "execution_count": 30,
   "metadata": {},
   "outputs": [
    {
     "name": "stdout",
     "output_type": "stream",
     "text": [
      "<class 'pandas.core.frame.DataFrame'>\n",
      "RangeIndex: 1000 entries, 0 to 999\n",
      "Data columns (total 2 columns):\n",
      " #   Column  Non-Null Count  Dtype \n",
      "---  ------  --------------  ----- \n",
      " 0   date    1000 non-null   object\n",
      " 1   msg     1000 non-null   object\n",
      "dtypes: object(2)\n",
      "memory usage: 15.8+ KB\n"
     ]
    }
   ],
   "source": [
    "time.info()"
   ]
  },
  {
   "cell_type": "code",
   "execution_count": 33,
   "metadata": {},
   "outputs": [],
   "source": [
    "# Converting to datetime datatype\n",
    "time['date'] = pd.to_datetime(time['date'])"
   ]
  },
  {
   "cell_type": "code",
   "execution_count": 34,
   "metadata": {},
   "outputs": [
    {
     "name": "stdout",
     "output_type": "stream",
     "text": [
      "<class 'pandas.core.frame.DataFrame'>\n",
      "RangeIndex: 1000 entries, 0 to 999\n",
      "Data columns (total 2 columns):\n",
      " #   Column  Non-Null Count  Dtype         \n",
      "---  ------  --------------  -----         \n",
      " 0   date    1000 non-null   datetime64[ns]\n",
      " 1   msg     1000 non-null   object        \n",
      "dtypes: datetime64[ns](1), object(1)\n",
      "memory usage: 15.8+ KB\n"
     ]
    }
   ],
   "source": [
    "time.info()"
   ]
  },
  {
   "cell_type": "code",
   "execution_count": 36,
   "metadata": {},
   "outputs": [
    {
     "data": {
      "text/html": [
       "<div>\n",
       "<style scoped>\n",
       "    .dataframe tbody tr th:only-of-type {\n",
       "        vertical-align: middle;\n",
       "    }\n",
       "\n",
       "    .dataframe tbody tr th {\n",
       "        vertical-align: top;\n",
       "    }\n",
       "\n",
       "    .dataframe thead th {\n",
       "        text-align: right;\n",
       "    }\n",
       "</style>\n",
       "<table border=\"1\" class=\"dataframe\">\n",
       "  <thead>\n",
       "    <tr style=\"text-align: right;\">\n",
       "      <th></th>\n",
       "      <th>date</th>\n",
       "      <th>msg</th>\n",
       "      <th>hour</th>\n",
       "      <th>min</th>\n",
       "      <th>sec</th>\n",
       "    </tr>\n",
       "  </thead>\n",
       "  <tbody>\n",
       "    <tr>\n",
       "      <th>0</th>\n",
       "      <td>2013-12-15 00:50:00</td>\n",
       "      <td>ищу на сегодня мужика 37</td>\n",
       "      <td>0</td>\n",
       "      <td>50</td>\n",
       "      <td>0</td>\n",
       "    </tr>\n",
       "    <tr>\n",
       "      <th>1</th>\n",
       "      <td>2014-04-29 23:40:00</td>\n",
       "      <td>ПАРЕНЬ БИ ИЩЕТ ДРУГА СЕЙЧАС!! СМС ММС 0955532826</td>\n",
       "      <td>23</td>\n",
       "      <td>40</td>\n",
       "      <td>0</td>\n",
       "    </tr>\n",
       "    <tr>\n",
       "      <th>2</th>\n",
       "      <td>2012-12-30 00:21:00</td>\n",
       "      <td>Днепр.м 43 позн.с д/ж *.о  067.16.34.576</td>\n",
       "      <td>0</td>\n",
       "      <td>21</td>\n",
       "      <td>0</td>\n",
       "    </tr>\n",
       "    <tr>\n",
       "      <th>3</th>\n",
       "      <td>2014-11-28 00:31:00</td>\n",
       "      <td>КИЕВ ИЩУ Д/Ж ДО 45 МНЕ СЕЙЧАС СКУЧНО 093 629 9...</td>\n",
       "      <td>0</td>\n",
       "      <td>31</td>\n",
       "      <td>0</td>\n",
       "    </tr>\n",
       "    <tr>\n",
       "      <th>4</th>\n",
       "      <td>2013-10-26 23:11:00</td>\n",
       "      <td>Зая я тебя никогда не обижу  люблю тебя!)  Даше</td>\n",
       "      <td>23</td>\n",
       "      <td>11</td>\n",
       "      <td>0</td>\n",
       "    </tr>\n",
       "  </tbody>\n",
       "</table>\n",
       "</div>"
      ],
      "text/plain": [
       "                 date                                                msg  \\\n",
       "0 2013-12-15 00:50:00                           ищу на сегодня мужика 37   \n",
       "1 2014-04-29 23:40:00   ПАРЕНЬ БИ ИЩЕТ ДРУГА СЕЙЧАС!! СМС ММС 0955532826   \n",
       "2 2012-12-30 00:21:00           Днепр.м 43 позн.с д/ж *.о  067.16.34.576   \n",
       "3 2014-11-28 00:31:00  КИЕВ ИЩУ Д/Ж ДО 45 МНЕ СЕЙЧАС СКУЧНО 093 629 9...   \n",
       "4 2013-10-26 23:11:00    Зая я тебя никогда не обижу  люблю тебя!)  Даше   \n",
       "\n",
       "   hour  min  sec  \n",
       "0     0   50    0  \n",
       "1    23   40    0  \n",
       "2     0   21    0  \n",
       "3     0   31    0  \n",
       "4    23   11    0  "
      ]
     },
     "execution_count": 36,
     "metadata": {},
     "output_type": "execute_result"
    }
   ],
   "source": [
    "time['hour'] = time['date'].dt.hour\n",
    "time['min'] = time['date'].dt.minute\n",
    "time['sec'] = time['date'].dt.second\n",
    "\n",
    "time.head()"
   ]
  },
  {
   "cell_type": "markdown",
   "metadata": {},
   "source": [
    "#### Extract Time part"
   ]
  },
  {
   "cell_type": "code",
   "execution_count": 37,
   "metadata": {},
   "outputs": [
    {
     "data": {
      "text/html": [
       "<div>\n",
       "<style scoped>\n",
       "    .dataframe tbody tr th:only-of-type {\n",
       "        vertical-align: middle;\n",
       "    }\n",
       "\n",
       "    .dataframe tbody tr th {\n",
       "        vertical-align: top;\n",
       "    }\n",
       "\n",
       "    .dataframe thead th {\n",
       "        text-align: right;\n",
       "    }\n",
       "</style>\n",
       "<table border=\"1\" class=\"dataframe\">\n",
       "  <thead>\n",
       "    <tr style=\"text-align: right;\">\n",
       "      <th></th>\n",
       "      <th>date</th>\n",
       "      <th>msg</th>\n",
       "      <th>hour</th>\n",
       "      <th>min</th>\n",
       "      <th>sec</th>\n",
       "      <th>time</th>\n",
       "    </tr>\n",
       "  </thead>\n",
       "  <tbody>\n",
       "    <tr>\n",
       "      <th>0</th>\n",
       "      <td>2013-12-15 00:50:00</td>\n",
       "      <td>ищу на сегодня мужика 37</td>\n",
       "      <td>0</td>\n",
       "      <td>50</td>\n",
       "      <td>0</td>\n",
       "      <td>00:50:00</td>\n",
       "    </tr>\n",
       "    <tr>\n",
       "      <th>1</th>\n",
       "      <td>2014-04-29 23:40:00</td>\n",
       "      <td>ПАРЕНЬ БИ ИЩЕТ ДРУГА СЕЙЧАС!! СМС ММС 0955532826</td>\n",
       "      <td>23</td>\n",
       "      <td>40</td>\n",
       "      <td>0</td>\n",
       "      <td>23:40:00</td>\n",
       "    </tr>\n",
       "    <tr>\n",
       "      <th>2</th>\n",
       "      <td>2012-12-30 00:21:00</td>\n",
       "      <td>Днепр.м 43 позн.с д/ж *.о  067.16.34.576</td>\n",
       "      <td>0</td>\n",
       "      <td>21</td>\n",
       "      <td>0</td>\n",
       "      <td>00:21:00</td>\n",
       "    </tr>\n",
       "    <tr>\n",
       "      <th>3</th>\n",
       "      <td>2014-11-28 00:31:00</td>\n",
       "      <td>КИЕВ ИЩУ Д/Ж ДО 45 МНЕ СЕЙЧАС СКУЧНО 093 629 9...</td>\n",
       "      <td>0</td>\n",
       "      <td>31</td>\n",
       "      <td>0</td>\n",
       "      <td>00:31:00</td>\n",
       "    </tr>\n",
       "    <tr>\n",
       "      <th>4</th>\n",
       "      <td>2013-10-26 23:11:00</td>\n",
       "      <td>Зая я тебя никогда не обижу  люблю тебя!)  Даше</td>\n",
       "      <td>23</td>\n",
       "      <td>11</td>\n",
       "      <td>0</td>\n",
       "      <td>23:11:00</td>\n",
       "    </tr>\n",
       "  </tbody>\n",
       "</table>\n",
       "</div>"
      ],
      "text/plain": [
       "                 date                                                msg  \\\n",
       "0 2013-12-15 00:50:00                           ищу на сегодня мужика 37   \n",
       "1 2014-04-29 23:40:00   ПАРЕНЬ БИ ИЩЕТ ДРУГА СЕЙЧАС!! СМС ММС 0955532826   \n",
       "2 2012-12-30 00:21:00           Днепр.м 43 позн.с д/ж *.о  067.16.34.576   \n",
       "3 2014-11-28 00:31:00  КИЕВ ИЩУ Д/Ж ДО 45 МНЕ СЕЙЧАС СКУЧНО 093 629 9...   \n",
       "4 2013-10-26 23:11:00    Зая я тебя никогда не обижу  люблю тебя!)  Даше   \n",
       "\n",
       "   hour  min  sec      time  \n",
       "0     0   50    0  00:50:00  \n",
       "1    23   40    0  23:40:00  \n",
       "2     0   21    0  00:21:00  \n",
       "3     0   31    0  00:31:00  \n",
       "4    23   11    0  23:11:00  "
      ]
     },
     "execution_count": 37,
     "metadata": {},
     "output_type": "execute_result"
    }
   ],
   "source": [
    "time['time'] = time['date'].dt.time\n",
    "\n",
    "time.head()"
   ]
  },
  {
   "cell_type": "markdown",
   "metadata": {},
   "source": [
    "#### Time difference"
   ]
  },
  {
   "cell_type": "code",
   "execution_count": 38,
   "metadata": {},
   "outputs": [
    {
     "data": {
      "text/plain": [
       "0     3876 days 14:01:40.727559\n",
       "1     3740 days 15:11:40.727559\n",
       "2     4226 days 14:30:40.727559\n",
       "3     3528 days 14:20:40.727559\n",
       "4     3925 days 15:40:40.727559\n",
       "                 ...           \n",
       "995   4515 days 14:01:40.727559\n",
       "996   3836 days 15:37:40.727559\n",
       "997   4301 days 15:14:40.727559\n",
       "998   4417 days 15:17:40.727559\n",
       "999   3689 days 15:26:40.727559\n",
       "Name: date, Length: 1000, dtype: timedelta64[ns]"
      ]
     },
     "execution_count": 38,
     "metadata": {},
     "output_type": "execute_result"
    }
   ],
   "source": [
    "today - time['date']"
   ]
  },
  {
   "cell_type": "code",
   "execution_count": 39,
   "metadata": {},
   "outputs": [
    {
     "data": {
      "text/plain": [
       "0      3.349369e+08\n",
       "1      3.231907e+08\n",
       "2      3.651786e+08\n",
       "3      3.048708e+08\n",
       "4      3.391764e+08\n",
       "           ...     \n",
       "995    3.901465e+08\n",
       "996    3.314867e+08\n",
       "997    3.716613e+08\n",
       "998    3.816839e+08\n",
       "999    3.187852e+08\n",
       "Name: date, Length: 1000, dtype: float64"
      ]
     },
     "execution_count": 39,
     "metadata": {},
     "output_type": "execute_result"
    }
   ],
   "source": [
    "# in seconds\n",
    "\n",
    "(today - time['date'])/np.timedelta64(1,'s')"
   ]
  },
  {
   "cell_type": "code",
   "execution_count": 40,
   "metadata": {},
   "outputs": [
    {
     "data": {
      "text/plain": [
       "0      5.582282e+06\n",
       "1      5.386512e+06\n",
       "2      6.086311e+06\n",
       "3      5.081181e+06\n",
       "4      5.652941e+06\n",
       "           ...     \n",
       "995    6.502442e+06\n",
       "996    5.524778e+06\n",
       "997    6.194355e+06\n",
       "998    6.361398e+06\n",
       "999    5.313087e+06\n",
       "Name: date, Length: 1000, dtype: float64"
      ]
     },
     "execution_count": 40,
     "metadata": {},
     "output_type": "execute_result"
    }
   ],
   "source": [
    "# in minutes\n",
    "\n",
    "(today - time['date'])/np.timedelta64(1,'m')"
   ]
  },
  {
   "cell_type": "code",
   "execution_count": 41,
   "metadata": {},
   "outputs": [
    {
     "data": {
      "text/plain": [
       "0       93038.027980\n",
       "1       89775.194647\n",
       "2      101438.511313\n",
       "3       84686.344647\n",
       "4       94215.677980\n",
       "           ...      \n",
       "995    108374.027980\n",
       "996     92079.627980\n",
       "997    103239.244647\n",
       "998    106023.294647\n",
       "999     88551.444647\n",
       "Name: date, Length: 1000, dtype: float64"
      ]
     },
     "execution_count": 41,
     "metadata": {},
     "output_type": "execute_result"
    }
   ],
   "source": [
    "# in hours\n",
    "\n",
    "(today - time['date'])/np.timedelta64(1,'h')"
   ]
  },
  {
   "cell_type": "code",
   "execution_count": null,
   "metadata": {},
   "outputs": [],
   "source": []
  }
 ],
 "metadata": {
  "kernelspec": {
   "display_name": "Python 3 (ipykernel)",
   "language": "python",
   "name": "python3"
  },
  "language_info": {
   "codemirror_mode": {
    "name": "ipython",
    "version": 3
   },
   "file_extension": ".py",
   "mimetype": "text/x-python",
   "name": "python",
   "nbconvert_exporter": "python",
   "pygments_lexer": "ipython3",
   "version": "3.11.5"
  }
 },
 "nbformat": 4,
 "nbformat_minor": 4
}
